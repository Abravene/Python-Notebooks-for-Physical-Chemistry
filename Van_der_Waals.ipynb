{
  "nbformat": 4,
  "nbformat_minor": 0,
  "metadata": {
    "colab": {
      "provenance": [],
      "collapsed_sections": [],
      "toc_visible": true
    },
    "kernelspec": {
      "name": "python3",
      "display_name": "Python 3"
    }
  },
  "cells": [
    {
      "cell_type": "markdown",
      "metadata": {
        "id": "F4k31xFnaf7F"
      },
      "source": [
        "# The Van der Waals Equation Notebook\n",
        "\n",
        "Contact: abravene@uw.edu, ardithbravenec@yahoo.com\n",
        "\n",
        "[![Open In Colab](https://colab.research.google.com/assets/colab-badge.svg)](https://colab.research.google.com/notebooks/basic_features_overview.ipynb)\n",
        "\n",
        "\n",
        "#Contents:\n",
        "The learning objectives for this lab are:\n",
        "\n",
        "*   Understand how the perfect gas law differs from the Van der Waals equation\n",
        "*   Explore empiracal correlations between variables\n",
        "*   Understand what it means for the distribution to be normalized and why this is functionally important\n",
        "*   to relate the distribution to kinetic energy and the speed of sound\n",
        "\n",
        "\n",
        "**To run the code below:**\n",
        "\n",
        "Click on the cell to select it.\n",
        "Press SHIFT+ENTER on your keyboard or press the play button in the top left corner.\n",
        "\n",
        "**To clear outputs:**\n",
        "\n",
        "Click on the clear output button (x) in the toolbar above the cell located in the top lefthand corner just above the graphical output.\n",
        "\n",
        "**Save when finished:**\n",
        "\n",
        "Do this by clicking file-->download .ipynb. This file should contain all your answers and edits to the following example problems."
      ]
    },
    {
      "cell_type": "markdown",
      "source": [
        "#Van der Waals equation\n",
        "\n",
        "The Van der Waals equation for n moles of gas is given by,\n",
        "\n",
        "$\\left(P+\\frac{an^2}{V^2}\\right)\\left(V-nb\\right)=nRT$.\n",
        "\n",
        "Compared to the perfect gas equation, this equation provides a more accurate fit for pressure-volume-temperature data for real gases.\n",
        "\n",
        "The improved fit is obtained by introducing two parameters (designated $a$ and $b$) that are determined experimentally for each gas. \n",
        "\n",
        "To correct for the volume occupied by real gas molecules, the Van der Waals equation replaces ${\\displaystyle V/n}$ in the perfect gas equation with ${\\displaystyle (V_{m}-b)}$, where $V_{m}$ is the molar volume of the gas and b is the volume occupied by the molecules of one mole.\n",
        "\n",
        "Second, the Van der Waals equation includes intermolecular interaction by adding to the observed pressure P in the equation of state a term of the form ${\\displaystyle a/V_{m}^{2}}$, where $a$ is a constant whose value depends on the gas.\n"
      ],
      "metadata": {
        "id": "f6fFp1FoxG0M"
      }
    },
    {
      "cell_type": "markdown",
      "metadata": {
        "id": "h1Zu8cc7iq4W"
      },
      "source": [
        "#1 - Perfect Gas and Van der Waals P Calculations\n",
        "Carbon dioxide gas (1.00 mole) at 373 K occupies 536 mL at 50.0 atmosphere pressure. \n",
        "\n",
        "The Van der Waals constants for carbon dioxide are a = 3.61 L2 atm mol-2 and b = 0.0428 L mol-1.\n",
        "\n",
        "Calculate the  pressure using the:\n",
        "\n",
        "1. Perfect gas equation, \n",
        "\n",
        "$PV = nRT$\n",
        "\n",
        "2. Van der Waals equation, \n",
        "\n",
        "$\\left(P+\\frac{an^2}{V^2}\\right)\\left(V-nb\\right)=nRT$\n",
        "\n",
        "3. Calculate the relative change of each value from the observed atmosphere pressure."
      ]
    },
    {
      "cell_type": "code",
      "metadata": {
        "id": "z9Zj42wJj54F",
        "outputId": "451d8869-7dd6-441a-fca4-3350ae35de64",
        "colab": {
          "base_uri": "https://localhost:8080/"
        }
      },
      "source": [
        "#Variables for you to fill in\n",
        "\n",
        "\n",
        "a = 3.61 #fill in\n",
        "b = 0.0428 #fill in\n",
        "\n",
        "V = 0.536 #L\n",
        "n = 1.00 #mol\n",
        "T = 373 #K\n",
        "R = 0.0821\n",
        "\n",
        "atm_P = 50 \n",
        "\n",
        "### Equations ###\n",
        "\n",
        "#Perfect Gas\n",
        "\n",
        "perfect_P = ((n*R*T)/V)\n",
        "\n",
        "#use round(number, ndigits) with number as the number being rounded to ndigits\n",
        "\n",
        "print('By the perfect gas equation:', round(perfect_P, 1), 'atm')\n",
        "\n",
        "\n",
        "#setup Van der Waals equation below\n",
        "\n",
        "van_P= (n*R*T)/(V - n*b) - (n**2*a)/(V**2)\n",
        "\n",
        "print('By the Van der Waals equation:', round(van_P, 1), 'atm')\n",
        "\n",
        "#Relative change\n",
        "\n",
        "Perfect_deviation = ((atm_P-perfect_P)/atm_P)* 100 \n",
        "Van_deviation = ((atm_P-van_P)/atm_P) * 100\n",
        "\n",
        "print('Van der Waals deviation:', round(Van_deviation, 1), '%')\n",
        "print('Perfect Gas deviation:', round(Perfect_deviation, 1), '%')\n"
      ],
      "execution_count": null,
      "outputs": [
        {
          "output_type": "stream",
          "name": "stdout",
          "text": [
            "By the perfect gas equation: 57.1 atm\n",
            "By the Van der Waals equation: 49.5 atm\n",
            "Van der Waals deviation: 0.9 %\n",
            "Perfect Gas deviation: -14.3 %\n"
          ]
        }
      ]
    },
    {
      "cell_type": "markdown",
      "metadata": {
        "id": "-Aavzi4loqs8"
      },
      "source": [
        "#2 -  Perfect Gas and Van der Waals T Calculations\n",
        "\n",
        "Using the above problem as a guide, solve the following problem in the cell below.\n",
        "\n",
        "1. Using Van der Waals equation, calculate the temperature of 20.0 mole of helium in a 10.0 litre cylinder at 120 atmosphere pressure.\n",
        "\n",
        "Van der Waals constants for helium: a = 0.0341 L2 at mol-2; b = 0.0237 L mol-1\n",
        "\n",
        "2. Compare this value with the temperature calculated from the perfect gas equation."
      ]
    },
    {
      "cell_type": "code",
      "metadata": {
        "id": "l1HgPMC5pIHT",
        "outputId": "50054997-d586-4ba0-845d-16a4c1bd36cf",
        "colab": {
          "base_uri": "https://localhost:8080/",
          "height": 68
        }
      },
      "source": [
        "#Write code here.\n",
        "\n",
        "#Variables. \n",
        "\n",
        "a = 0.0341\n",
        "b = 0.0237\n",
        "\n",
        "V = 10.0  #L\n",
        "n = 20.0  #mol\n",
        "P =  120 #atm\n",
        "R = 0.0821\n",
        "\n",
        "#Perfect Gas Equation for T\n",
        "\n",
        "perfect_T=(P*V/(n*R)) #you fill this in!\n",
        "\n",
        "#Use round(number, ndigits) with number as the number being rounded to ndigits\n",
        "print('By the perfect gas equation:T =', round(perfect_T, 1), 'K')\n",
        "\n",
        "\n",
        "#Van der Waals: (P + an2/V2)(V - nb) = nRT\n",
        "#setup equation below\n",
        "van_T=((P + a*n**2)*(V - n*b))/(n*R)\n",
        "\n",
        "print('By the Van der Waals equation:T =', round(van_T, 1), 'K')\n",
        "\n",
        "#Percent difference\n",
        "\n",
        "Percent_difference = ((perfect_T-van_T)/perfect_T)*100\n",
        "                 \n",
        "print('Percent difference:', round(Percent_difference, 1), '%')\n",
        "\n"
      ],
      "execution_count": null,
      "outputs": [
        {
          "output_type": "stream",
          "text": [
            "By the perfect gas equation:T = 730.8 K\n",
            "By the Van der Waals equation:T = 775.3 K\n",
            "Percent difference: -6.1 %\n"
          ],
          "name": "stdout"
        }
      ]
    },
    {
      "cell_type": "markdown",
      "metadata": {
        "id": "yqw5-YEFpJ9G"
      },
      "source": [
        "#3 - Graphing Van der Waal's Equation\n",
        "\n",
        "Let's explore some features of Van der Waal's Equation and Constants.\n",
        "\n",
        "The Van der Waal's constant $a$ defines the attractive force between gas molecules. \n",
        "\n",
        "If $a$ is high, will the melting point of a compound also be high? \n",
        "\n",
        "Let's explore this by plotting some data. Describe what you find in a few sentences.\n"
      ]
    },
    {
      "cell_type": "code",
      "metadata": {
        "id": "9-esn9nQM4sr",
        "outputId": "1334202a-4e9e-4450-8807-d13876616786",
        "colab": {
          "base_uri": "https://localhost:8080/",
          "height": 468
        }
      },
      "source": [
        "import matplotlib.pyplot as plt\n",
        "import numpy as np\n",
        "\n",
        "#a values for Noble Gases\n",
        "\n",
        "Ar = 1.355\n",
        "Ne = 0.2135\n",
        "Kr= 2.349\n",
        "Xe = 4.250 \n",
        "Rn = 6.601\n",
        "\n",
        "#Noble Gas melting points\n",
        "Ar_MP = 83.85 #K\n",
        "Ne_MP = 24.56 #K\n",
        "Xe_MP = 161.40 #K \n",
        "Kr_MP = 115.78 #K\n",
        "Rn_MP = 202.2 #K\n",
        "\n",
        "\n",
        "## plot figure ##\n",
        "\n",
        "#this sets the figure size\n",
        "plt.figure(figsize=(7,7))\n",
        "\n",
        "#this plots x versus y with markers ('o') and labels\n",
        "plt.plot(Ne,Ne_MP, 'o',label='Ne')\n",
        "plt.plot(Ar,Ar_MP, 'o', label='Ar')\n",
        "\n",
        "#go ahead and add in Kr, Xe, and Rn\n",
        "#plt.plot(Kr,Kr_MP, 'o', label='Kr')\n",
        "#plt.plot(Xe,Xe_MP, 'o', label='Xe')\n",
        "#plt.plot(Rn,Rn_MP, 'o', label='Rn')\n",
        "\n",
        "\n",
        "# this adds data labels next to data points\n",
        "#feel free to add in Kr, Xe, and Rn\n",
        "plt.annotate(\"Ne\", (Ne, Ne_MP))\n",
        "plt.annotate(\"Ar\", (Ar, Ar_MP))\n",
        "\n",
        "# this makes a trendline for a third order polynomial\n",
        "# what happens if you change the 3 to a 1 or a 2?\n",
        "z = np.polyfit([Ne, Ar, Kr, Xe, Rn], [Ne_MP, Ar_MP, Kr_MP, Xe_MP, Rn_MP], 3)\n",
        "p = np.poly1d(z)\n",
        "plt.plot([Ne, Ar, Kr, Xe, Rn],p([Ne, Ar, Kr, Xe, Rn]),\"--\", alpha=0.3)\n",
        "\n",
        "#adds legends and labels\n",
        "plt.legend()\n",
        "plt.xlabel('a $(L^{2} bar/mol^2)$', fontsize=14)\n",
        "plt.ylabel('Melting Temperature (K)', fontsize=14)\n",
        "plt.title('Attractive Forces and Melting Temperature')\n",
        "\n",
        "plt.show()"
      ],
      "execution_count": null,
      "outputs": [
        {
          "output_type": "display_data",
          "data": {
            "text/plain": [
              "<Figure size 504x504 with 1 Axes>"
            ],
            "image/png": "[encoded data removed]"
          },
          "metadata": {
            "needs_background": "light"
          }
        }
      ]
    },
    {
      "cell_type": "markdown",
      "metadata": {
        "id": "utaLIDMaVgr6"
      },
      "source": [
        "#4 - Student's Own Graph\n",
        "\n",
        "Above, I've plotted a trend for the Noble Gases. Now you will make your own plot using new values. \n",
        "\n",
        "Choose a different series of compounds (at least four points or more to produce a convincing trend) or variables, look up the values, and produce another trend in the cell below using the code above as a guide. \n",
        "\n",
        "For example, you may select on of the following:\n",
        "\n",
        "1. Explore the boiling point of a liquid versus $a$ or $b$.\n",
        "\n",
        "2. How are the Van der Waals constants $a$ and $b$ related to each other, perhap using the Noble Gases as an example data set? Do you expect a correlation?\n",
        "\n",
        "3. Explore molar mass versus $a$ or $b$. \n",
        "\n",
        "But be careful about what compounds you select to make your graph, since $a$ is unique to a particular compound and depends on intermolecular forces among other factors. So it makes sense to compare compounds which share similarities like noble gases or hydrocarbons.\n",
        "\n",
        "Useful resources:\n",
        "\n",
        "https://en.wikipedia.org/wiki/Van_der_Waals_constants_(data_page)\n",
        "\n",
        "https://www.engineeringtoolbox.com/non-ideal-gas-van-der-Waals-equation-constants-gas-law-d_1969.html\n",
        "\n",
        "\n"
      ]
    },
    {
      "cell_type": "code",
      "metadata": {
        "id": "5vx1jBAwVdLa"
      },
      "source": [
        "# Student's Own Graph \n",
        "\n",
        "import matplotlib.pyplot as plt\n",
        "import numpy as np\n",
        "\n",
        "#feel free to copy and paste from the above code and add it here"
      ],
      "execution_count": null,
      "outputs": []
    },
    {
      "cell_type": "markdown",
      "metadata": {
        "id": "L0JgPQPdVFcc"
      },
      "source": [
        "#5 - Graph the Compressibility, Z\n",
        "\n",
        "More than 90% of methane on Earth is produced by living organisms. Therefore, it has been proposed as a potential biosignature for life detection on other planets. We can model methane using the truncated virial equation,\n",
        "\n",
        "$Z=1+\\frac{B}{V} + \\frac{C}{V^{2}}+\\frac{D}{V^{3}} $\n",
        "\n",
        "At 273.15 K, the virial coefficients are $B = -53.4 cm^3/mol$, $C = 2620 cm^6/mol^2$, $D = 5000 cm^9/mol^3$.\n",
        "\n",
        "a. Graph the compressibility, Z, of methane at 273.15 K, as a function of pressure from zero to 200 bar.\n",
        "\n",
        "b. The perfect gas law becomes less applicable at higher pressures. Based on your graph, at about what pressure does the perfect gas law become a poor approximation?\n",
        "\n",
        "c. The volume explicit virial equation can be truncated to two terms as follows,\n",
        "$Z = 1 + \\frac{BP}{RT}$.\n",
        "\n",
        "To what pressure does this provide a good approximation?\n",
        "\n"
      ]
    },
    {
      "cell_type": "code",
      "metadata": {
        "id": "Gv8F96CHimqR",
        "outputId": "388119e8-b6d6-46ea-d7f7-9eeaee27126a",
        "colab": {
          "base_uri": "https://localhost:8080/",
          "height": 462
        }
      },
      "source": [
        "import numpy as np\n",
        "import matplotlib.pyplot as plt\n",
        "\n",
        "#add variables\n",
        "R= 83.14 #cm^3 bar mol^-1 K^-1\n",
        "T= 273.15 # K\n",
        "\n",
        "B=-53.4  #cm3/mol\n",
        "C= 2620  #cm6/mol^2\n",
        "D= 5000  #cm^9/mol^3\n",
        "\n",
        "\"\"\" here we're using Numpy to *generate* some data for us. \n",
        "It returns evenly spaced values within a given interval.\n",
        "Specifically, V from 80 to 200000 with spacing between values given by step 5.\"\"\"\n",
        "\n",
        "V = np.arange(80,200000,5)\n",
        "\n",
        "#The bracket means that this variable is typed as list, even before getting the first list items stored\n",
        "Z4 = [] \n",
        "Z2 =[]\n",
        "P = [] \n",
        "\n",
        "#now we will populate Z4, Z2, and P\n",
        "\n",
        "for ii in np.arange(len(V)): Z4.append(1 + (B/V[ii]) + C/(V[ii]**2) + D/(V[ii]**3))\n",
        "for ii in np.arange(len(V)): P.append((1 + (B/V[ii]) + (C/V[ii]**2) + (D/V[ii]**3))*R*T/V[ii])\n",
        "for ii in np.arange(len(V)): Z2.append(1 + B*((1 + (B/V[ii]) + (C/V[ii]**2) + (D/V[ii]**3))*R*T/V[ii])/(R*T))\n",
        "\n",
        "#makes the plot\n",
        "plt.figure(figsize=(7,7))\n",
        "plt.plot(P,Z4, label='Four terms')\n",
        "plt.plot(P,Z2, label='Two terms')\n",
        "plt.plot([0,200],[1,1], label='Perfect Gas')\n",
        "plt.xlim(0, 200)\n",
        "plt.ylim(0.5, 1.1)\n",
        "plt.legend()\n",
        "\n",
        "plt.xlabel('Pressure (bar)', fontsize=14)\n",
        "plt.ylabel('Z', fontsize=14)\n",
        "plt.title('Z Comparison for Methane')\n",
        "plt.show()"
      ],
      "execution_count": null,
      "outputs": [
        {
          "output_type": "display_data",
          "data": {
            "text/plain": [
              "<Figure size 504x504 with 1 Axes>"
            ],
            "image/png": "[encoded data removed]"
          },
          "metadata": {
            "needs_background": "light"
          }
        }
      ]
    },
    {
      "cell_type": "markdown",
      "metadata": {
        "id": "lkteMdUnW2Ak"
      },
      "source": [
        "#6 - Van der Waals equation for $CO_{2}$ \n",
        "\n",
        "Let's consider the Van der Waals equation for $CO_{2}$ at different temperatures.\n",
        "\n",
        "$P_{CO_{2}} = \\frac{RT}{V_{m}-b} - \\frac{a}{V_{m}^2}$\n",
        "\n",
        " Use $a = 3.658$ $L^{2}$ $bar$ $mol^{-2}$, $b = 0.04286$ $L$ $mol^{-1}$.\n",
        "\n",
        "1. Please add several more temperatures of your choosing (T3, T4, and T5). \n",
        "\n",
        "2. Make a plot for the perfect gas. \n",
        "\n",
        "Note that the critical temperature ($T_{c}$) obtained is obtained \n",
        "from $dP/dV_{m} = 0$\n",
        "and $\\frac{d^{2}P}{dV_{m}^{2}}=0$.\n",
        "\n",
        "On the figure below, you can denote such an inflection point in a certain isotherm, where the P & V at this point are named $P_{c}$ and $V_{c}$.\n",
        "\n",
        "3. Graphically, make an estimate of where this occurs on your graph for $T_{c}$. You may need to adjust the x and y limits to clearly see the inflection point. Then compare to an actual literature value.\n",
        "\n",
        "4. Confirm your estimate by calculating the critical constants, where $T_{c}$ in terms of $a$ and $b$, are given by\n",
        "\n",
        "$T_{c}=\\frac{8a}{27bR}$\n",
        "\n",
        "$P_{c}=\\frac{a}{27b^2}$\n",
        "\n",
        "$V_{m,c}=3b$\n"
      ]
    },
    {
      "cell_type": "code",
      "metadata": {
        "id": "0nv3oLXPW5eR",
        "outputId": "cd5828b6-103a-4c56-9691-d9469acf2c0f",
        "colab": {
          "base_uri": "https://localhost:8080/",
          "height": 520
        }
      },
      "source": [
        "import matplotlib.pyplot as plt\n",
        "import numpy as np\n",
        "\n",
        "#van der Waals Equation for CO2\n",
        "\n",
        "R= 0.0821  #cm^3 bar mol^-1 K^-1\n",
        "\n",
        "a= 3.658 \n",
        "b= 0.04286\n",
        "\n",
        "T1= 1200 #K\n",
        "T2= 200 #K\n",
        "#These are for you!\n",
        "T3 = 150 #K\n",
        "T4 = 72 #K\n",
        "T5 = 54 #K\n",
        "Tc= 304.13 #K\n",
        "\n",
        "V = np.arange(0.05,0.6, 0.005)\n",
        "P1 = [] \n",
        "P2 = []\n",
        "P3 = [] \n",
        "P4 = []\n",
        "P5 = []\n",
        "Pc = []\n",
        "\n",
        "for ii in np.arange(len(V)): P1.append(R*T1/(V[ii]-b) - a/V[ii]**2)\n",
        "for ii in np.arange(len(V)): P2.append(R*T2/(V[ii]-b) - a/V[ii]**2)\n",
        "for ii in np.arange(len(V)): P3.append(R*T3/(V[ii]-b) - a/V[ii]**2)\n",
        "for ii in np.arange(len(V)): P4.append(R*T4/(V[ii]-b) - a/V[ii]**2)\n",
        "for ii in np.arange(len(V)): P5.append(R*T5/(V[ii]-b) - a/V[ii]**2)\n",
        "for ii in np.arange(len(V)): Pc.append(R*Tc/(V[ii]-b) - a/V[ii]**2)\n",
        "\n",
        "\n",
        "#plots the figure\n",
        "plt.figure(figsize=(7,7))\n",
        "plt.plot(V, P1, label='1200 K')\n",
        "plt.plot(V, P2, label='200 K')\n",
        "plt.plot(V, P3, label='150 K')\n",
        "plt.plot(V, P4, label='72 K')\n",
        "plt.plot(V, P5, label='54 K')\n",
        "plt.plot(V, Pc, label='304.13 K')\n",
        "\n",
        "#Calculates the critical constants\n",
        "Tc_calc=(8*a)/(27*b*R)\n",
        "Pc_calc=a/(27*b**2)\n",
        "Vmc_calc=3*b\n",
        "print('The calculated value for Tc is', Tc_calc, 'K')\n",
        "print('The calculated value for Pc is', Pc_calc, 'K')\n",
        "print('The calculated value for Vm,c is', Vc_calc, 'K')\n",
        "\n",
        "#This is the answer, but find it yourself!\n",
        "plt.plot(Vmc_calc, Pc_calc, '*', label='Critical point', color='black') #Literature values: Tc=304.13 K, Pc=304.13 bar, Vc=0.1 L/mol'\n",
        "\n",
        "#further figure plotting\n",
        "plt.xlabel('$V_{m}$ (L/mol)', fontsize=14)\n",
        "plt.ylabel('P (bar)', fontsize=14)\n",
        "\n",
        "plt.title('van der Waals Equation for CO2', fontsize=16)\n",
        "\n",
        "plt.xlim(0, 0.6)\n",
        "plt.ylim(-400, 700)\n",
        "\n",
        "plt.legend()\n",
        "plt.show()\n",
        "\n"
      ],
      "execution_count": null,
      "outputs": [
        {
          "output_type": "stream",
          "name": "stdout",
          "text": [
            "The calculated value for Tc is 308.0169386581277 K\n",
            "The calculated value for Pc is 73.75230594911422 K\n",
            "The calculated value for Vm,c is 0.12858 K\n"
          ]
        },
        {
          "output_type": "display_data",
          "data": {
            "text/plain": [
              "<Figure size 504x504 with 1 Axes>"
            ],
            "image/png": "[encoded data removed]"
          },
          "metadata": {
            "needs_background": "light"
          }
        }
      ]
    }
  ]
}