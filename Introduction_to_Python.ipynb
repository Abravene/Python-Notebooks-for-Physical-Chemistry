{
  "nbformat": 4,
  "nbformat_minor": 0,
  "metadata": {
    "colab": {
      "provenance": [],
      "collapsed_sections": [],
      "toc_visible": true
    },
    "kernelspec": {
      "name": "python3",
      "display_name": "Python 3"
    },
    "language_info": {
      "name": "python"
    }
  },
  "cells": [
    {
      "cell_type": "markdown",
      "source": [
        "# Intro to Python for Physical Chemistry\n",
        "\n",
        "Contact: abravene@uw.edu, ardithbravenec@yahoo.com\n",
        "\n",
        "[![Open In Colab](https://colab.research.google.com/assets/colab-badge.svg)](https://colab.research.google.com/notebooks/basic_features_overview.ipynb)\n",
        "\n",
        "\n",
        "<br/>\n",
        "\n",
        "Coding is one of the most useful and transferable skills in the modern age. These Python computer labs are designed for physical chemistry class and assumes no previous knowledge of Python or computer science. The goal isn’t to teach you everything about Python, but to give you a gentle introduction through applied learning and practical problem solving so you will be equipped in case you wish to further explore this area.\n",
        "\n",
        "Just like in experimental labs, it's not always practical to try to understand every detail in full. For example, we consider only the basic fundamentals behind the engineering of the lab instruments like the GC-MS or UV-vis. It isn't the best use of our time to fully delve into the materials involved in the construction or the software engineering. As students of physical chemistry, we are interested in the application and the broad scientific implications. \n",
        "\n",
        "Likewise, we will try to understand the big picture in our coding labs. Don't get too caught up with how every single line or package works! Instead, focus on the concepts and implications for physical chemistry.\n",
        "\n",
        "To do this we need to start by going through the basics of programming in Python. Once you have had some practice writing, editing, and running pieces of Python code, you'll be able to handle more complex programming concepts and start using these to explore some interesting ideas in physical chemistry.\n",
        "\n",
        "#Contents:\n",
        "The learning objectives for this lab are:\n",
        "\n",
        "*   Learn some Python syntax\n",
        "*   Understand how to do simple calculations\n",
        "*   Understand how to make functions\n",
        "*   Understand how to make simple graphs\n",
        "*   Understand how to do numerical integration\n",
        "\n",
        "\n",
        "\n",
        "**To run the code below:**\n",
        "\n",
        "Click on the cell to select it.\n",
        "Press SHIFT+ENTER on your keyboard or press the play button in the top left corner.\n",
        "\n",
        "**To clear outputs:**\n",
        "\n",
        "Click on the clear output button (x) in the toolbar above the cell located in the top lefthand corner just above the graphical output.\n",
        "\n",
        "**Save when finished:**\n",
        "\n",
        "Do this by clicking file-->download .ipynb. This file should contain all your answers and edits to the following example problems."
      ],
      "metadata": {
        "id": "Ur8-BPrDu_pL"
      }
    },
    {
      "cell_type": "markdown",
      "source": [
        "#1 - Simple Calculations\n",
        "One of the simplest forms of “code” that can be run in code cells is mathematical expressions.\n",
        "\n",
        "In the code below you will see such operations and comments.\n",
        "\n",
        "Comments are added with the purpose of making the source code easier for humans to understand, and are generally ignored by compilers and interpreters. In the cell below, they are given in green and follow the #. \n",
        "\n",
        "You may also see a red multi-line comment with docstrings bounded by \"\"\".\n",
        "\n",
        "Go ahead and run the code below. \n",
        "\n",
        "See if you can print some of the simple calculations.\n"
      ],
      "metadata": {
        "id": "c71LkFKqvCMt"
      }
    },
    {
      "cell_type": "code",
      "source": [
        "#This is a comment. The code below is going to do some math. wow. \n",
        "\n",
        "#addition\n",
        "10+2\n",
        "\n",
        "#subtraction\n",
        "10-2\n",
        "\n",
        "#multiplication\n",
        "10*2\n",
        "\n",
        "#division\n",
        "10/2\n",
        "\n",
        "#exponents (powers) with a double '*':\n",
        "\n",
        "10**2\n",
        "\n",
        "#We can easily print things to the screen:\n",
        "\n",
        "print('Hello World!')\n",
        "\n",
        "#If we want to store a number to use later in another calculation, we use variables:\n",
        "\n",
        "a = 2\n",
        "b = 6\n",
        "\n",
        "c=a*b\n",
        "\n",
        "print(c)"
      ],
      "metadata": {
        "id": "Y7TaxPmdvFz1"
      },
      "execution_count": null,
      "outputs": []
    },
    {
      "cell_type": "code",
      "source": [
        "#Printing\n",
        "\n",
        "temp = 10+20 #K\n",
        "temp2 = 10/3\n",
        "\n",
        "#you can use '' and commas to print text\n",
        "\n",
        "print('this is text describing some example temp of', temp, 'K')\n",
        "\n",
        "#you can also round your answer using (round(number,ndigits))\n",
        "print(round(temp2, 2))\n",
        "\n",
        "#see if you can combine printing text and modifying the number\n",
        "\n"
      ],
      "metadata": {
        "colab": {
          "base_uri": "https://localhost:8080/"
        },
        "id": "F886x41afv3i",
        "outputId": "63e93dc9-5957-45d0-cbdd-00e510a5d11f"
      },
      "execution_count": null,
      "outputs": [
        {
          "output_type": "stream",
          "name": "stdout",
          "text": [
            "this is text describing some example temp of 30 K\n",
            "3.33\n"
          ]
        }
      ]
    },
    {
      "cell_type": "markdown",
      "source": [
        "## Hess' Law Calculation (acetylene)\n",
        "Germain Henri Hess, in 1840, discovered a very useful principle which is named for him:\n",
        "\n",
        "*The enthalpy of a given chemical reaction is constant, regardless of the reaction happening in one step or many steps.*\n",
        "\n",
        "\n",
        "Using Hess' Law and the code cell below, calculate the enthalpy for the production of acetylene,\n",
        "\n",
        "\n",
        "$2C_{(s)} + H_{2(g)} \\rightarrow C_{2}H_{2(g)}$\t      $      ΔH° = ??? kJ$\n",
        "\n",
        "Given the following thermochemical equations:\n",
        "\n",
        "1. $C_{2}H_{2(g)} + 5⁄2O+_{2(g)} \\rightarrow 2CO_{2(g)} + H_{2}O_{(ℓ)},   \\;\\;\\;\\;\\;\\;\\;      ΔH° = −1299.5 kJ$\n",
        "2. $C(s) + O_{2(g)} \\rightarrow CO_{2(g)}, \\;\\;\\;\\;\\;\\;\\;\\;\\;\\;\\;\\;\\;\\;\\;\\;\\;\\;\\;\\;\\;\\;\\;\\;\\;\\;\\;\\;\\;\\;\\;\\;\\;\\;\\;\\;\\;\\;\\;\\;\\;\\;\\;\tΔH° = −393.5 kJ$\n",
        "3. $H_{2(g)} + 1⁄2O_{2(g)} \\rightarrow H2O(ℓ), \t\\;\\;\\;\\;\\;\\;\\;\\;\\;\\;\\;\\;\\;\\;\\;\\;\\;\\;\\;\\;\\;\\;\\;\\;\\;\\;\\;\\;\\;\\;\\;\\;ΔH° = −285.8 kJ$"
      ],
      "metadata": {
        "id": "sLXb0gf_vQCx"
      }
    },
    {
      "cell_type": "code",
      "source": [
        "#Note acetylene torches are great.  \n",
        "\n",
        "#Assign variables. Finish filling in values here.\n",
        "\n",
        "dH1=-1299.5 #kj\n",
        "dH2= #you fill this in, note that units are not included so keep track in comments\n",
        "dH3= #you fill this in\n",
        "\n",
        "\"\"\"\n",
        "Below, apply Hess'Law and adjust the above equations\n",
        "1) first eq: flip it so as to put C2H2 on the product side\n",
        "2) second eq: multiply it by two to get 2C\n",
        "3) third eq: do nothing. We need one H2 on the reactant side and that's what we have.\"\"\n",
        "\"\"\"\n",
        "\n",
        "dH_acetylene = -dH1 + 2*dH2 + dH3 \n",
        "\n",
        "#print the result, notice how using '' and commas allows you to print text\n",
        "print('ΔH° for the production of acetylene:', dH_acetylene, 'kJ')\n"
      ],
      "metadata": {
        "id": "iKAYh-0YvOTo"
      },
      "execution_count": null,
      "outputs": []
    },
    {
      "cell_type": "markdown",
      "source": [
        "##Hess' Law Calculation (Iron)\n",
        "\n",
        "Determine the heat of reaction for the oxidation of iron:\n",
        "\n",
        "$2Fe_{(s)} + 3⁄2O_{2(g)} \\rightarrow Fe_{2}O_{3(s)}$\n",
        "\n",
        "given the thermochemical equations:\n",
        "\n",
        "1. $2Fe(s) + 6H2O(ℓ) \\rightarrow 2Fe(OH)_{3(s)} + 3H_{2(g)} \\;\\;\\;\\;\\;\\;\\;\\;\\;\\;\\;\\;\\;\\;\\;\\;\\;\\;\\;\\;\\;\\;\\;\\;\\;\\;\\;ΔH = +322 kJ$\n",
        "2. $Fe_{2}O_{3(s)} + 3H_{2}O_{(ℓ)} \\rightarrow 2Fe(OH)_{3(s)}\t  \\;\\;\\;\\;\\;\\;\\;\\;\\;\\;\\;\\;\\;\\;\\;\\;\\;\\;\\;\\;\\;\\;\\;\\;\\;\\;\\;\\;\\;\\;\\;\\;\\;\\;\\;\\;\\;\\;\\;\\;ΔH = +289 kJ$\n",
        "3. $2H_{2(g)} + O_{2(g)} \\rightarrow 2H_{2}O_{(ℓ)}\t \\;\\;\\;\\;\\;\\;\\;\\;\\;\\;\\;\\;\\;\\;\\;\\;\\;\\;\\;\\;\\;\\;\\;\\;\\;\\;\\;\\;\\;\\;\\;\\;\\;\\;\\;\\;\\;\\;\\;\\;\\;\\;\\;\\;\\;\\;\\;\\;\\;\\;\\;\\;\\;\\;\\;\\;\\;ΔH = +572 kJ$\n"
      ],
      "metadata": {
        "id": "NygsBuIFvdu2"
      }
    },
    {
      "cell_type": "code",
      "source": [
        "dH1 = #you fill this in\n",
        "dH2 = #you fill this in\n",
        "dH3 = #you fill this in\n",
        "\n",
        "products = #you fill this in\n",
        "\n",
        "reactants = #you fill this in\n",
        "\n",
        "dH_iron = products - reactants \n",
        "\n",
        "print('ΔH° for the production of iron:', dH_iron, 'kJ')\n"
      ],
      "metadata": {
        "id": "HufT1SQUvX2a"
      },
      "execution_count": null,
      "outputs": []
    },
    {
      "cell_type": "markdown",
      "source": [
        "#2 - Plotting\n",
        "\n",
        "By default, Python can't display plots so we have to import a module for this task called Matplotlib, which is a widely used and useful plotting library. Simple plots are then easy to create and customize. Take a look at the example below.\n"
      ],
      "metadata": {
        "id": "i3FvKqezvIaF"
      }
    },
    {
      "cell_type": "code",
      "source": [
        "# import the required module\n",
        "import matplotlib.pyplot as plt\n",
        "  \n",
        "# x axis values\n",
        "x = [1,2,3,4]\n",
        "\n",
        "# corresponding y axis values\n",
        "y = [200,400,600, 800]\n",
        "  \n",
        "# plotting the points \n",
        "plt.plot(x, y)\n",
        "  \n",
        "# naming the x axis\n",
        "plt.xlabel('x - axis (y units)')\n",
        "\n",
        "# naming the y axis\n",
        "plt.ylabel('y - axis (x units)')\n",
        "  \n",
        "# giving a title to my graph\n",
        "plt.title('My first graph!')\n",
        "  \n",
        "# function to show the plot\n",
        "plt.show()"
      ],
      "metadata": {
        "colab": {
          "base_uri": "https://localhost:8080/",
          "height": 295
        },
        "id": "X20TU4SOKsjx",
        "outputId": "6ee82cb5-5721-415f-a7a3-7f019c5755f9"
      },
      "execution_count": null,
      "outputs": [
        {
          "output_type": "display_data",
          "data": {
            "text/plain": [
              "<Figure size 432x288 with 1 Axes>"
            ],
            "image/png": "[encoded data removed]"
          },
          "metadata": {
            "needs_background": "light"
          }
        }
      ]
    },
    {
      "cell_type": "markdown",
      "source": [
        "There's plenty of other handy features for plotting, like setting the figure size, font size, x and y axis limits, and much more. Go ahead and take a look at the additional modifications to the graph below. See what changing each of the additions does. \n",
        "\n",
        "There's a lot of flexibility in the plt.plot function for a wide variety of possible visualization options. For a full description of the options available, refer to the [plt.plot documentation](https://matplotlib.org/stable/api/_as_gen/matplotlib.pyplot.plot.html).\n",
        "\n",
        "Go ahead and fix each one of the changes until the graph looks acceptable again, that is the data should be visible as should the title."
      ],
      "metadata": {
        "id": "JD_mVomOlZ8T"
      }
    },
    {
      "cell_type": "code",
      "source": [
        "# import the required module\n",
        "import matplotlib.pyplot as plt\n",
        "  \n",
        "# x axis values\n",
        "x = [1,2,3,4]\n",
        "# corresponding y axis values\n",
        "y = [200,400,600,800]\n",
        "  \n",
        "\n",
        "#this sets the figure size\n",
        "plt.figure(figsize=(7,7))\n",
        "\n",
        "#this sets the y and y limits of the figure... but something isn't right!\n",
        "plt.xlim(0, 1)\n",
        "plt.ylim(100, 1600)\n",
        "\n",
        "# plotting the points, note how you can change the marker and color\n",
        "# try change '-ok' to 'o' or any of the other suggestions below\n",
        "plt.plot(x, y, '-ok', color='green')\n",
        "\n",
        "#plot titles\n",
        "plt.xlabel('x - axis (y units)')\n",
        "plt.ylabel('y - axis (x units)')\n",
        "plt.title('My first graph!', fontsize=2) #notice the fontsize\n",
        "\n",
        "plt.show()"
      ],
      "metadata": {
        "colab": {
          "base_uri": "https://localhost:8080/",
          "height": 450
        },
        "id": "lE5c_BR6lN72",
        "outputId": "b53466d8-83a4-46d3-c035-6c89193047f9"
      },
      "execution_count": 3,
      "outputs": [
        {
          "output_type": "display_data",
          "data": {
            "text/plain": [
              "<Figure size 504x504 with 1 Axes>"
            ],
            "image/png": "[encoded data removed]"
          },
          "metadata": {
            "needs_background": "light"
          }
        }
      ]
    },
    {
      "cell_type": "markdown",
      "source": [
        "## Curve Fitting\n",
        "\n",
        "Curve fitting is a powerful tool to investigate the relationship between two sets of data and is done by finding the best fit function or curve across the whole range. This function then can be used to interpolate data within the given range or extrapolate possible values outside of the range.\n",
        "\n",
        "The most common form of curve fitting is linear regression. However, most data do not form a linear relationship. In this case, polynomials are then a better way of fitting.\n",
        "\n",
        "First let's try to do linear regression on our previous plot. You can add some more points and see how the fit changes along with m and b.\n"
      ],
      "metadata": {
        "id": "Sco4XNW088fP"
      }
    },
    {
      "cell_type": "code",
      "source": [
        "#Linear Fit Example\n",
        "\n",
        "# import the required module\n",
        "import matplotlib.pyplot as plt\n",
        "import numpy as np\n",
        "  \n",
        "# x, y axis values\n",
        "x = [1,2,3,4, 6]\n",
        "y = [200,400,600,800, 1000]\n",
        "  \n",
        "\n",
        "# plotting the points\n",
        "plt.plot(x, y, 'o', color='green')\n",
        "\n",
        "# make the trend line.\n",
        "coef = np.polyfit(x,y,deg=1) #To fit a line, use deg = 1.\n",
        "poly1d_fn = np.poly1d(coef) \n",
        " \n",
        "#if you want the slope and intercept\n",
        "slope, intercept = np.polyfit(x, y, deg=1)\n",
        "print('y =', (round(slope,2)),'x +', (round(intercept,2)))\n",
        "\n",
        "\n",
        "#plot the trend line \n",
        "plt.plot(x, poly1d_fn(x))\n",
        "\n",
        "#plt.title(f'slope = {round(m, 3)}, int = {round(b, 3)}, SSE = {round(SSE, 3)}')\n",
        "\n",
        "#plot titles\n",
        "plt.xlabel('x - axis (y units)')\n",
        "plt.ylabel('y - axis (x units)')\n",
        "plt.title('Linear Fit!', fontsize=12)\n",
        "\n",
        "plt.show()\n"
      ],
      "metadata": {
        "colab": {
          "base_uri": "https://localhost:8080/",
          "height": 312
        },
        "id": "wXba9AOT-4cN",
        "outputId": "7e9096bc-f96e-46b6-d618-512e2a5a8468"
      },
      "execution_count": 39,
      "outputs": [
        {
          "output_type": "stream",
          "name": "stdout",
          "text": [
            "y = 162.16 x + 81.08\n"
          ]
        },
        {
          "output_type": "display_data",
          "data": {
            "text/plain": [
              "<Figure size 432x288 with 1 Axes>"
            ],
            "image/png": "[encoded data removed]"
          },
          "metadata": {
            "needs_background": "light"
          }
        }
      ]
    },
    {
      "cell_type": "code",
      "source": [
        "import numpy as np\n",
        "import matplotlib.pyplot as plt\n",
        "\n",
        "\n",
        "#Generate data\n",
        "x = np.linspace(0,1,1000)\n",
        "f=1/2\n",
        "\n",
        "#Let's use a sine curve\n",
        "\n",
        "# note np.pi is how we get pi\n",
        "# np.randon.normal draws random samples from a normal (Gaussian) distribution.\n",
        "sine = np.sin(2*np.pi*f*x) + np.random.normal(scale=0.1, size=len(x))\n",
        "plt.plot(sine)\n",
        "\n",
        "#now we will use a 3rd degree polynomial fit\n",
        "poly = np.polyfit(x, sine, deg=3)\n",
        "\n",
        "#plot points and fit\n",
        "plt.plot(sine, label='data')\n",
        "plt.plot(np.polyval(poly, x), label='fit')\n",
        "\n",
        "\n",
        "#plot titles and legend\n",
        "plt.xlabel('x - axis (y units)')\n",
        "plt.ylabel('y - axis (x units)')\n",
        "plt.title('Curve Fitting!')\n",
        "plt.legend()\n",
        "\n",
        "plt.show()"
      ],
      "metadata": {
        "colab": {
          "base_uri": "https://localhost:8080/",
          "height": 295
        },
        "id": "1CrshxWh9jur",
        "outputId": "ee733a56-ceb9-46d4-cbe5-a5dd27f27b07"
      },
      "execution_count": null,
      "outputs": [
        {
          "output_type": "display_data",
          "data": {
            "text/plain": [
              "<Figure size 432x288 with 1 Axes>"
            ],
            "image/png": "[encoded data removed]"
          },
          "metadata": {
            "needs_background": "light"
          }
        }
      ]
    },
    {
      "cell_type": "markdown",
      "source": [
        "# 3 - Creating a Function: Boyle's Law\n",
        "\n",
        "A function is simply a piece of code that we want to use multiple times but don't want to write out each time. \n",
        "\n",
        "For example, if we wanted to continually use the perfect gas law to solve for pressure over temperatures spanning 10 to 1000 K in 50 K increments, we could write a function to do it. In Python a function is defined using the def keyword. \n",
        "\n",
        "So if we wanted to create a function to compute the volume of a perfect gas, we would do so as below. \n",
        "\n",
        "Let's use P = 1.01 atm, n = 0.00831 mol, T = 298.15 K. The function will compute V.\n"
      ],
      "metadata": {
        "id": "S-OeQeTN4d4U"
      }
    },
    {
      "cell_type": "code",
      "source": [
        "R = 0.08206 #L atm mol¯1 K¯\n",
        "\n",
        "\"\"\"\n",
        "A function that returns the V of a \n",
        "perfect gas as a function of P, T, and moles \n",
        "according to V=nRT/P\n",
        "\n",
        "\"\"\"\n",
        "\n",
        "def compute_gas_V(gas_P, gas_T, gas_mol):\n",
        "\n",
        "    return (gas_mol * R * gas_T)/gas_P\n",
        "\n",
        "print(compute_gas_V(1.01, 298.15, 0.00831),'L')\n",
        "\n"
      ],
      "metadata": {
        "colab": {
          "base_uri": "https://localhost:8080/"
        },
        "id": "fFD6ym7RvHzJ",
        "outputId": "05524de0-646a-4ec9-8bf4-1345c3bcc035"
      },
      "execution_count": null,
      "outputs": [
        {
          "output_type": "stream",
          "name": "stdout",
          "text": [
            "0.20130102038613856 L\n"
          ]
        }
      ]
    },
    {
      "cell_type": "markdown",
      "source": [
        "Now we can use the volume function to make a plot. For example, Boyle's law states pressure and volume are inversely proportional at a constant temperature for a given mass of an ideal gas. The statement can mathematically be expressed as:\n",
        "\n",
        "$P \\propto\\frac{1}{V}$.\n",
        "\n",
        "We can demonstrate this with a plot by holding n and T constant, generating values for P, and then using our function to solve for V. "
      ],
      "metadata": {
        "id": "eal391_HQKc1"
      }
    },
    {
      "cell_type": "code",
      "source": [
        "#Plot of P vs 1/V\n",
        "\n",
        "#Variables\n",
        "R = 0.08206 #L atm mol¯1 K¯\n",
        "n = 1.0 #mole\n",
        "T = 298.15 #K\n",
        "\n",
        "#Generate values for pressure between 60 and 200 in increments of 10\n",
        "P = np.arange(60, 200, 10)\n",
        "\n",
        "#Plot 1/function versus P\n",
        "#Note using the label for the T so it automatically updates if you change T above\n",
        "plt.plot(1/(compute_gas_V(P, T, n)), P, color='blue', label=str(T)+' K')\n",
        "\n",
        "plt.xlabel('P (atm)')\n",
        "plt.ylabel('1/V (L)')\n",
        "\n",
        "plt.title('Boyles Law')\n",
        "\n",
        "plt.legend()\n",
        "plt.show()"
      ],
      "metadata": {
        "colab": {
          "base_uri": "https://localhost:8080/",
          "height": 295
        },
        "id": "ImIL-jZpOPUF",
        "outputId": "5504ea5b-1406-4a8d-d41a-66b76a4163a4"
      },
      "execution_count": null,
      "outputs": [
        {
          "output_type": "display_data",
          "data": {
            "text/plain": [
              "<Figure size 432x288 with 1 Axes>"
            ],
            "image/png": "[encoded data removed]"
          },
          "metadata": {
            "needs_background": "light"
          }
        }
      ]
    },
    {
      "cell_type": "markdown",
      "source": [
        "## Creating a Function: Gay-Lussac’s law, Charle's Law, or Avogadro's law\n",
        "\n",
        "Using the above example as a guide, for either Gay-Lussac’s law, Charle's Law, or Avogadro's law:\n",
        "\n",
        "1. make a function and then a plot \n",
        "2. Then make a plot."
      ],
      "metadata": {
        "id": "ZnsLzLvfRilS"
      }
    },
    {
      "cell_type": "code",
      "source": [
        "#Your code goes here!\n",
        "\n",
        "\n",
        "\n"
      ],
      "metadata": {
        "id": "E_rz-qwtRiV4"
      },
      "execution_count": null,
      "outputs": []
    },
    {
      "cell_type": "markdown",
      "source": [
        "#4 - Integration\n",
        "\n",
        "The scipy.integrate sub-package provides several integration techniques including an ordinary differential equation integrator. \n",
        "\n",
        "Methods for integrating functions include **trapezoid** (trapezoidal rule to compute integral), **simpson** (Use Simpson's rule to compute integral from samples, and **romb** (Use Romberg Integration to compute integral from (2**k + 1) evenly-spaced samples.\n"
      ],
      "metadata": {
        "id": "RoVquzrc10jz"
      }
    },
    {
      "cell_type": "markdown",
      "source": [
        "##Integration of a DSC Curve\n",
        "\n",
        "The data in the cell below is from the experimental DSC scan of hen white lysozyme (G. Privalov et al., Anal. Biochem. 79, 232 (1995)). \n",
        "\n",
        "The code below determines the enthalpy of unfolding of this protein by integration of the curve and the change in heat capacity accompanying the transition.\n",
        "\n",
        "1. Please explain how the code below calculates the enthalpy of the protein’s unfolding. (Write your explanation in this text cell below!)\n",
        "\n",
        "2. The code below uses two different integration techniques. Look up each technique and then compare the values by adjusting the code. \n",
        "\n"
      ],
      "metadata": {
        "id": "dxFbCejb1v0f"
      }
    },
    {
      "cell_type": "code",
      "source": [
        "from scipy.interpolate import make_interp_spline, BSpline\n",
        "from scipy.integrate import trapz, simps\n",
        "import matplotlib.pyplot as plt\n",
        "import numpy as np\n",
        "\n",
        "\n",
        "#DSC data\n",
        "T = [30, 40, 50, 54, 56, 57, 58, 59, 60, 61, 62,63,64, 64.5, 65,66,67, 68,69,70,72,74,80] #C\n",
        "Cp=[20, 23, 26, 28, 33,40,46,52,58,63,70,80,89,90,85,80,68,60,52,47,41,37,36] #ex/kJ K-1 mol-1 \n",
        "\n",
        "\"\"\" 300 represents number of points to make between T.min and T.max.\n",
        "# This has the effect of making a nice smooth line between the actual data points\n",
        "# What happens if you change the 300 value? Change up the values below and see \n",
        "what happens, what does each number or variable represent?\"\"\"\n",
        "\n",
        "xnew = np.linspace(30, 80, 300) \n",
        "spl = make_interp_spline(T, Cp, k=3)  # k=3 cubic is default \n",
        "Cp_smooth = spl(xnew)\n",
        "\n",
        "#plot figure\n",
        "plt.figure(figsize=(7,7))\n",
        "plt.plot(xnew, Cp_smooth, color='g') #feel free to change the color :)\n",
        "plt.plot(T, Cp, \"o\",color='g')\n",
        "plt.fill_between(xnew, Cp_smooth, alpha=0.15, color='springgreen')\n",
        "plt.xlabel('T (Celsius)', fontsize=14)\n",
        "plt.ylabel('Excess Heat Capacity (kJ K-1 mol-1 )', fontsize=14)\n",
        "\n",
        "#Now for some numerical integration!\n",
        "#try one or the other and then compare\n",
        "#plt.title('Area under curve by Trapezoidal Rule ' +str('{:5.2f}'.format(trapz(Cp, T))+' kj/mol'), fontsize=12)\n",
        "plt.title(\"Area under curve by Simpson's Rule \" +str('{:5.2f}'.format(simps(Cp, T))+' kj/mol'), fontsize=12)\n",
        "\n",
        "#this adjusts the x and y limits of the graph \n",
        "plt.xlim(30, 80)\n",
        "plt.ylim(20, 95)\n",
        "\n",
        "plt.show()"
      ],
      "metadata": {
        "colab": {
          "base_uri": "https://localhost:8080/",
          "height": 462
        },
        "id": "C3wKINQf2SV6",
        "outputId": "f2f6733d-661f-4809-a32f-6849c2837417"
      },
      "execution_count": null,
      "outputs": [
        {
          "output_type": "display_data",
          "data": {
            "text/plain": [
              "<Figure size 504x504 with 1 Axes>"
            ],
            "image/png": "[encoded data removed]"
          },
          "metadata": {
            "needs_background": "light"
          }
        }
      ]
    },
    {
      "cell_type": "markdown",
      "source": [
        "#5 - Final Remarks\n",
        "Good job on learning some basic Python skills! \n",
        "\n",
        "Programming in Python empowers scientists to apply their knowledge to scales beyond what can be accomplished with manual effort. Whether automating operations for large volumes of data, solving numerical problems, or creating simulations, there's a wealth of applications out there. We've only just scratched the surface. \n",
        "\n"
      ],
      "metadata": {
        "id": "fhVWwJNjSwfb"
      }
    }
  ]
}